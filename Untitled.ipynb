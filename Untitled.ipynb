{
 "cells": [
  {
   "cell_type": "code",
   "execution_count": 1,
   "metadata": {
    "collapsed": false,
    "deletable": true,
    "editable": true
   },
   "outputs": [],
   "source": [
    "import pandas as pd\n",
    "import json\n",
    "from src.first_name import *"
   ]
  },
  {
   "cell_type": "code",
   "execution_count": 2,
   "metadata": {
    "collapsed": false,
    "deletable": true,
    "editable": true
   },
   "outputs": [
    {
     "name": "stdout",
     "output_type": "stream",
     "text": [
      "96908\n"
     ]
    }
   ],
   "source": [
    "first_name_dictionary = FirstNameDictionary()\n",
    "print(first_name_dictionary.get_max_id())"
   ]
  },
  {
   "cell_type": "code",
   "execution_count": 3,
   "metadata": {
    "collapsed": false,
    "deletable": true,
    "editable": true
   },
   "outputs": [],
   "source": [
    "# 33497"
   ]
  },
  {
   "cell_type": "code",
   "execution_count": 5,
   "metadata": {
    "collapsed": false,
    "deletable": true,
    "editable": true
   },
   "outputs": [
    {
     "name": "stdout",
     "output_type": "stream",
     "text": [
      "96908\n"
     ]
    }
   ],
   "source": [
    "for year in range(1880, 2017):\n",
    "    df = pd.read_csv(\"TOSORT/names/yob\" + str(year) + \".txt\")\n",
    "    names = df.ix[:, 0].tolist()\n",
    "    sexes = df.ix[:, 1].tolist()\n",
    "    for name, sex in zip(names, sexes):\n",
    "        if sex == \"F\":\n",
    "            sex = \"FEMALE\"\n",
    "        elif sex == \"M\":\n",
    "            sex = \"MALE\"\n",
    "        else:\n",
    "            raise GrosProbleme(\"Le sexe est etrange : \" + sex)\n",
    "        first_name_dictionary.add_name(name, sex=sex)\n",
    "\n",
    "print(first_name_dictionary.get_max_id())"
   ]
  },
  {
   "cell_type": "code",
   "execution_count": 30,
   "metadata": {
    "collapsed": false,
    "deletable": true,
    "editable": true
   },
   "outputs": [],
   "source": []
  },
  {
   "cell_type": "code",
   "execution_count": 3,
   "metadata": {
    "collapsed": true,
    "deletable": true,
    "editable": true
   },
   "outputs": [],
   "source": [
    "first_name_dictionary._overwrite(safe=False)"
   ]
  },
  {
   "cell_type": "code",
   "execution_count": null,
   "metadata": {
    "collapsed": true,
    "deletable": true,
    "editable": true
   },
   "outputs": [],
   "source": [
    "sort_keys=True"
   ]
  }
 ],
 "metadata": {
  "kernelspec": {
   "display_name": "Python 3",
   "language": "python",
   "name": "python3"
  },
  "language_info": {
   "codemirror_mode": {
    "name": "ipython",
    "version": 3
   },
   "file_extension": ".py",
   "mimetype": "text/x-python",
   "name": "python",
   "nbconvert_exporter": "python",
   "pygments_lexer": "ipython3",
   "version": "3.6.0"
  }
 },
 "nbformat": 4,
 "nbformat_minor": 2
}
