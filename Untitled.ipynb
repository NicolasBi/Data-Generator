{
 "cells": [
  {
   "cell_type": "code",
   "execution_count": 1,
   "metadata": {
    "collapsed": false,
    "deletable": true,
    "editable": true
   },
   "outputs": [],
   "source": [
    "import pandas as pd\n",
    "import json\n",
    "from src.last_name import *"
   ]
  },
  {
   "cell_type": "code",
   "execution_count": 3,
   "metadata": {
    "collapsed": false,
    "deletable": true,
    "editable": true
   },
   "outputs": [
    {
     "name": "stdout",
     "output_type": "stream",
     "text": [
      "0\n"
     ]
    }
   ],
   "source": [
    "last_name_dictionary = LastNameDictionary()\n",
    "print(last_name_dictionary.get_max_id())"
   ]
  },
  {
   "cell_type": "code",
   "execution_count": 11,
   "metadata": {
    "collapsed": false
   },
   "outputs": [
    {
     "name": "stdout",
     "output_type": "stream",
     "text": [
      "88799\n"
     ]
    }
   ],
   "source": [
    "content = []\n",
    "with open(\"TOSORT/last_name.txt\") as file:\n",
    "    for line in file:\n",
    "        content.append(line.split()[0])\n",
    "print(len(content))"
   ]
  },
  {
   "cell_type": "code",
   "execution_count": 5,
   "metadata": {
    "collapsed": false,
    "deletable": true,
    "editable": true
   },
   "outputs": [
    {
     "name": "stdout",
     "output_type": "stream",
     "text": [
      "96908\n"
     ]
    }
   ],
   "source": [
    "names = df.ix[:, 0].tolist()\n",
    "sexes = df.ix[:, 1].tolist()\n",
    "for name, sex in zip(names, sexes):\n",
    "    if sex == \"F\":\n",
    "        sex = \"FEMALE\"\n",
    "    elif sex == \"M\":\n",
    "        sex = \"MALE\"\n",
    "    else:\n",
    "        raise GrosProbleme(\"Le sexe est etrange : \" + sex)\n",
    "    first_name_dictionary.add_name(name, sex=sex)\n",
    "\n",
    "print(first_name_dictionary.get_max_id())"
   ]
  },
  {
   "cell_type": "code",
   "execution_count": 10,
   "metadata": {
    "collapsed": false,
    "deletable": true,
    "editable": true
   },
   "outputs": [
    {
     "name": "stdout",
     "output_type": "stream",
     "text": [
      "88799\n"
     ]
    }
   ],
   "source": [
    "for name in content:\n",
    "    last_name_dictionary.add_name(name)\n",
    "print(last_name_dictionary.get_max_id())"
   ]
  },
  {
   "cell_type": "code",
   "execution_count": 13,
   "metadata": {
    "collapsed": true,
    "deletable": true,
    "editable": true
   },
   "outputs": [],
   "source": [
    "last_name_dictionary._overwrite(safe=False)"
   ]
  },
  {
   "cell_type": "code",
   "execution_count": null,
   "metadata": {
    "collapsed": true,
    "deletable": true,
    "editable": true
   },
   "outputs": [],
   "source": [
    "sort_keys=True"
   ]
  }
 ],
 "metadata": {
  "kernelspec": {
   "display_name": "Python 3",
   "language": "python",
   "name": "python3"
  },
  "language_info": {
   "codemirror_mode": {
    "name": "ipython",
    "version": 3
   },
   "file_extension": ".py",
   "mimetype": "text/x-python",
   "name": "python",
   "nbconvert_exporter": "python",
   "pygments_lexer": "ipython3",
   "version": "3.6.0"
  }
 },
 "nbformat": 4,
 "nbformat_minor": 2
}
